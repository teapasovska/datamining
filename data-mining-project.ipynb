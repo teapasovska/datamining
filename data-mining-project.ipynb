{
 "cells": [
  {
   "cell_type": "code",
   "execution_count": 1,
   "id": "78f38cae",
   "metadata": {
    "_cell_guid": "b1076dfc-b9ad-4769-8c92-a6c4dae69d19",
    "_uuid": "8f2839f25d086af736a60e9eeb907d3b93b6e0e5",
    "execution": {
     "iopub.execute_input": "2024-07-19T18:48:37.853811Z",
     "iopub.status.busy": "2024-07-19T18:48:37.853300Z",
     "iopub.status.idle": "2024-07-19T18:48:38.887294Z",
     "shell.execute_reply": "2024-07-19T18:48:38.885876Z"
    },
    "papermill": {
     "duration": 1.045788,
     "end_time": "2024-07-19T18:48:38.890737",
     "exception": false,
     "start_time": "2024-07-19T18:48:37.844949",
     "status": "completed"
    },
    "tags": []
   },
   "outputs": [
    {
     "name": "stdout",
     "output_type": "stream",
     "text": [
      "/kaggle/input/netflix-tv-shows-and-movies/credits.csv\n",
      "/kaggle/input/netflix-tv-shows-and-movies/titles.csv\n"
     ]
    }
   ],
   "source": [
    "# This Python 3 environment comes with many helpful analytics libraries installed\n",
    "# It is defined by the kaggle/python Docker image: https://github.com/kaggle/docker-python\n",
    "# For example, here's several helpful packages to load\n",
    "\n",
    "import numpy as np # linear algebra\n",
    "import pandas as pd # data processing, CSV file I/O (e.g. pd.read_csv)\n",
    "\n",
    "# Input data files are available in the read-only \"../input/\" directory\n",
    "# For example, running this (by clicking run or pressing Shift+Enter) will list all files under the input directory\n",
    "\n",
    "import os\n",
    "for dirname, _, filenames in os.walk('/kaggle/input'):\n",
    "    for filename in filenames:\n",
    "        print(os.path.join(dirname, filename))\n",
    "\n",
    "# You can write up to 20GB to the current directory (/kaggle/working/) that gets preserved as output when you create a version using \"Save & Run All\" \n",
    "# You can also write temporary files to /kaggle/temp/, but they won't be saved outside of the current session"
   ]
  },
  {
   "cell_type": "markdown",
   "id": "b4fadc8e",
   "metadata": {
    "papermill": {
     "duration": 0.006365,
     "end_time": "2024-07-19T18:48:38.904059",
     "exception": false,
     "start_time": "2024-07-19T18:48:38.897694",
     "status": "completed"
    },
    "tags": []
   },
   "source": [
    "**Importing libraries**"
   ]
  },
  {
   "cell_type": "code",
   "execution_count": 2,
   "id": "5675531d",
   "metadata": {
    "execution": {
     "iopub.execute_input": "2024-07-19T18:48:38.919635Z",
     "iopub.status.busy": "2024-07-19T18:48:38.919121Z",
     "iopub.status.idle": "2024-07-19T18:48:40.733442Z",
     "shell.execute_reply": "2024-07-19T18:48:40.732167Z"
    },
    "papermill": {
     "duration": 1.825034,
     "end_time": "2024-07-19T18:48:40.736174",
     "exception": false,
     "start_time": "2024-07-19T18:48:38.911140",
     "status": "completed"
    },
    "tags": []
   },
   "outputs": [],
   "source": [
    "import pandas as pd\n",
    "from sklearn.model_selection import train_test_split, cross_val_score, GridSearchCV\n",
    "from sklearn.ensemble import RandomForestRegressor\n",
    "from sklearn.linear_model import LinearRegression\n",
    "from sklearn.metrics import mean_squared_error, mean_absolute_error\n",
    "from sklearn.preprocessing import StandardScaler, OneHotEncoder\n",
    "from sklearn.compose import ColumnTransformer\n",
    "from sklearn.pipeline import Pipeline\n",
    "import numpy as np"
   ]
  },
  {
   "cell_type": "markdown",
   "id": "d44a58e6",
   "metadata": {
    "papermill": {
     "duration": 0.00598,
     "end_time": "2024-07-19T18:48:40.748502",
     "exception": false,
     "start_time": "2024-07-19T18:48:40.742522",
     "status": "completed"
    },
    "tags": []
   },
   "source": [
    "**Specify the file paths for both database files**"
   ]
  },
  {
   "cell_type": "code",
   "execution_count": 3,
   "id": "2c3a1076",
   "metadata": {
    "execution": {
     "iopub.execute_input": "2024-07-19T18:48:40.762908Z",
     "iopub.status.busy": "2024-07-19T18:48:40.762489Z",
     "iopub.status.idle": "2024-07-19T18:48:40.768057Z",
     "shell.execute_reply": "2024-07-19T18:48:40.766863Z"
    },
    "papermill": {
     "duration": 0.015766,
     "end_time": "2024-07-19T18:48:40.770546",
     "exception": false,
     "start_time": "2024-07-19T18:48:40.754780",
     "status": "completed"
    },
    "tags": []
   },
   "outputs": [],
   "source": [
    "titles_file_path = \"/kaggle/input/netflix-tv-shows-and-movies/titles.csv\"\n",
    "credits_file_path = \"/kaggle/input/netflix-tv-shows-and-movies/credits.csv\""
   ]
  },
  {
   "cell_type": "markdown",
   "id": "a7848d0c",
   "metadata": {
    "papermill": {
     "duration": 0.005991,
     "end_time": "2024-07-19T18:48:40.782972",
     "exception": false,
     "start_time": "2024-07-19T18:48:40.776981",
     "status": "completed"
    },
    "tags": []
   },
   "source": [
    "**Load the titles dataset**"
   ]
  },
  {
   "cell_type": "code",
   "execution_count": 4,
   "id": "226fd4fc",
   "metadata": {
    "execution": {
     "iopub.execute_input": "2024-07-19T18:48:40.797963Z",
     "iopub.status.busy": "2024-07-19T18:48:40.797204Z",
     "iopub.status.idle": "2024-07-19T18:48:40.926715Z",
     "shell.execute_reply": "2024-07-19T18:48:40.925450Z"
    },
    "papermill": {
     "duration": 0.139878,
     "end_time": "2024-07-19T18:48:40.929399",
     "exception": false,
     "start_time": "2024-07-19T18:48:40.789521",
     "status": "completed"
    },
    "tags": []
   },
   "outputs": [
    {
     "data": {
      "text/html": [
       "<div>\n",
       "<style scoped>\n",
       "    .dataframe tbody tr th:only-of-type {\n",
       "        vertical-align: middle;\n",
       "    }\n",
       "\n",
       "    .dataframe tbody tr th {\n",
       "        vertical-align: top;\n",
       "    }\n",
       "\n",
       "    .dataframe thead th {\n",
       "        text-align: right;\n",
       "    }\n",
       "</style>\n",
       "<table border=\"1\" class=\"dataframe\">\n",
       "  <thead>\n",
       "    <tr style=\"text-align: right;\">\n",
       "      <th></th>\n",
       "      <th>id</th>\n",
       "      <th>title</th>\n",
       "      <th>type</th>\n",
       "      <th>description</th>\n",
       "      <th>release_year</th>\n",
       "      <th>age_certification</th>\n",
       "      <th>runtime</th>\n",
       "      <th>genres</th>\n",
       "      <th>production_countries</th>\n",
       "      <th>seasons</th>\n",
       "      <th>imdb_id</th>\n",
       "      <th>imdb_score</th>\n",
       "      <th>imdb_votes</th>\n",
       "      <th>tmdb_popularity</th>\n",
       "      <th>tmdb_score</th>\n",
       "    </tr>\n",
       "  </thead>\n",
       "  <tbody>\n",
       "    <tr>\n",
       "      <th>0</th>\n",
       "      <td>ts300399</td>\n",
       "      <td>Five Came Back: The Reference Films</td>\n",
       "      <td>SHOW</td>\n",
       "      <td>This collection includes 12 World War II-era p...</td>\n",
       "      <td>1945</td>\n",
       "      <td>TV-MA</td>\n",
       "      <td>51</td>\n",
       "      <td>['documentation']</td>\n",
       "      <td>['US']</td>\n",
       "      <td>1.0</td>\n",
       "      <td>NaN</td>\n",
       "      <td>NaN</td>\n",
       "      <td>NaN</td>\n",
       "      <td>0.600</td>\n",
       "      <td>NaN</td>\n",
       "    </tr>\n",
       "    <tr>\n",
       "      <th>1</th>\n",
       "      <td>tm84618</td>\n",
       "      <td>Taxi Driver</td>\n",
       "      <td>MOVIE</td>\n",
       "      <td>A mentally unstable Vietnam War veteran works ...</td>\n",
       "      <td>1976</td>\n",
       "      <td>R</td>\n",
       "      <td>114</td>\n",
       "      <td>['drama', 'crime']</td>\n",
       "      <td>['US']</td>\n",
       "      <td>NaN</td>\n",
       "      <td>tt0075314</td>\n",
       "      <td>8.2</td>\n",
       "      <td>808582.0</td>\n",
       "      <td>40.965</td>\n",
       "      <td>8.179</td>\n",
       "    </tr>\n",
       "    <tr>\n",
       "      <th>2</th>\n",
       "      <td>tm154986</td>\n",
       "      <td>Deliverance</td>\n",
       "      <td>MOVIE</td>\n",
       "      <td>Intent on seeing the Cahulawassee River before...</td>\n",
       "      <td>1972</td>\n",
       "      <td>R</td>\n",
       "      <td>109</td>\n",
       "      <td>['drama', 'action', 'thriller', 'european']</td>\n",
       "      <td>['US']</td>\n",
       "      <td>NaN</td>\n",
       "      <td>tt0068473</td>\n",
       "      <td>7.7</td>\n",
       "      <td>107673.0</td>\n",
       "      <td>10.010</td>\n",
       "      <td>7.300</td>\n",
       "    </tr>\n",
       "    <tr>\n",
       "      <th>3</th>\n",
       "      <td>tm127384</td>\n",
       "      <td>Monty Python and the Holy Grail</td>\n",
       "      <td>MOVIE</td>\n",
       "      <td>King Arthur, accompanied by his squire, recrui...</td>\n",
       "      <td>1975</td>\n",
       "      <td>PG</td>\n",
       "      <td>91</td>\n",
       "      <td>['fantasy', 'action', 'comedy']</td>\n",
       "      <td>['GB']</td>\n",
       "      <td>NaN</td>\n",
       "      <td>tt0071853</td>\n",
       "      <td>8.2</td>\n",
       "      <td>534486.0</td>\n",
       "      <td>15.461</td>\n",
       "      <td>7.811</td>\n",
       "    </tr>\n",
       "    <tr>\n",
       "      <th>4</th>\n",
       "      <td>tm120801</td>\n",
       "      <td>The Dirty Dozen</td>\n",
       "      <td>MOVIE</td>\n",
       "      <td>12 American military prisoners in World War II...</td>\n",
       "      <td>1967</td>\n",
       "      <td>NaN</td>\n",
       "      <td>150</td>\n",
       "      <td>['war', 'action']</td>\n",
       "      <td>['GB', 'US']</td>\n",
       "      <td>NaN</td>\n",
       "      <td>tt0061578</td>\n",
       "      <td>7.7</td>\n",
       "      <td>72662.0</td>\n",
       "      <td>20.398</td>\n",
       "      <td>7.600</td>\n",
       "    </tr>\n",
       "  </tbody>\n",
       "</table>\n",
       "</div>"
      ],
      "text/plain": [
       "         id                                title   type  \\\n",
       "0  ts300399  Five Came Back: The Reference Films   SHOW   \n",
       "1   tm84618                          Taxi Driver  MOVIE   \n",
       "2  tm154986                          Deliverance  MOVIE   \n",
       "3  tm127384      Monty Python and the Holy Grail  MOVIE   \n",
       "4  tm120801                      The Dirty Dozen  MOVIE   \n",
       "\n",
       "                                         description  release_year  \\\n",
       "0  This collection includes 12 World War II-era p...          1945   \n",
       "1  A mentally unstable Vietnam War veteran works ...          1976   \n",
       "2  Intent on seeing the Cahulawassee River before...          1972   \n",
       "3  King Arthur, accompanied by his squire, recrui...          1975   \n",
       "4  12 American military prisoners in World War II...          1967   \n",
       "\n",
       "  age_certification  runtime                                       genres  \\\n",
       "0             TV-MA       51                            ['documentation']   \n",
       "1                 R      114                           ['drama', 'crime']   \n",
       "2                 R      109  ['drama', 'action', 'thriller', 'european']   \n",
       "3                PG       91              ['fantasy', 'action', 'comedy']   \n",
       "4               NaN      150                            ['war', 'action']   \n",
       "\n",
       "  production_countries  seasons    imdb_id  imdb_score  imdb_votes  \\\n",
       "0               ['US']      1.0        NaN         NaN         NaN   \n",
       "1               ['US']      NaN  tt0075314         8.2    808582.0   \n",
       "2               ['US']      NaN  tt0068473         7.7    107673.0   \n",
       "3               ['GB']      NaN  tt0071853         8.2    534486.0   \n",
       "4         ['GB', 'US']      NaN  tt0061578         7.7     72662.0   \n",
       "\n",
       "   tmdb_popularity  tmdb_score  \n",
       "0            0.600         NaN  \n",
       "1           40.965       8.179  \n",
       "2           10.010       7.300  \n",
       "3           15.461       7.811  \n",
       "4           20.398       7.600  "
      ]
     },
     "execution_count": 4,
     "metadata": {},
     "output_type": "execute_result"
    }
   ],
   "source": [
    "titles_data = pd.read_csv(titles_file_path)\n",
    "titles_data.head()"
   ]
  },
  {
   "cell_type": "markdown",
   "id": "493ea150",
   "metadata": {
    "papermill": {
     "duration": 0.006356,
     "end_time": "2024-07-19T18:48:40.942549",
     "exception": false,
     "start_time": "2024-07-19T18:48:40.936193",
     "status": "completed"
    },
    "tags": []
   },
   "source": [
    "**Load the credits dataset**"
   ]
  },
  {
   "cell_type": "code",
   "execution_count": 5,
   "id": "15f4253c",
   "metadata": {
    "execution": {
     "iopub.execute_input": "2024-07-19T18:48:40.958234Z",
     "iopub.status.busy": "2024-07-19T18:48:40.957818Z",
     "iopub.status.idle": "2024-07-19T18:48:41.195422Z",
     "shell.execute_reply": "2024-07-19T18:48:41.192647Z"
    },
    "papermill": {
     "duration": 0.249366,
     "end_time": "2024-07-19T18:48:41.198588",
     "exception": false,
     "start_time": "2024-07-19T18:48:40.949222",
     "status": "completed"
    },
    "tags": []
   },
   "outputs": [
    {
     "data": {
      "text/html": [
       "<div>\n",
       "<style scoped>\n",
       "    .dataframe tbody tr th:only-of-type {\n",
       "        vertical-align: middle;\n",
       "    }\n",
       "\n",
       "    .dataframe tbody tr th {\n",
       "        vertical-align: top;\n",
       "    }\n",
       "\n",
       "    .dataframe thead th {\n",
       "        text-align: right;\n",
       "    }\n",
       "</style>\n",
       "<table border=\"1\" class=\"dataframe\">\n",
       "  <thead>\n",
       "    <tr style=\"text-align: right;\">\n",
       "      <th></th>\n",
       "      <th>person_id</th>\n",
       "      <th>id</th>\n",
       "      <th>name</th>\n",
       "      <th>character</th>\n",
       "      <th>role</th>\n",
       "    </tr>\n",
       "  </thead>\n",
       "  <tbody>\n",
       "    <tr>\n",
       "      <th>0</th>\n",
       "      <td>3748</td>\n",
       "      <td>tm84618</td>\n",
       "      <td>Robert De Niro</td>\n",
       "      <td>Travis Bickle</td>\n",
       "      <td>ACTOR</td>\n",
       "    </tr>\n",
       "    <tr>\n",
       "      <th>1</th>\n",
       "      <td>14658</td>\n",
       "      <td>tm84618</td>\n",
       "      <td>Jodie Foster</td>\n",
       "      <td>Iris Steensma</td>\n",
       "      <td>ACTOR</td>\n",
       "    </tr>\n",
       "    <tr>\n",
       "      <th>2</th>\n",
       "      <td>7064</td>\n",
       "      <td>tm84618</td>\n",
       "      <td>Albert Brooks</td>\n",
       "      <td>Tom</td>\n",
       "      <td>ACTOR</td>\n",
       "    </tr>\n",
       "    <tr>\n",
       "      <th>3</th>\n",
       "      <td>3739</td>\n",
       "      <td>tm84618</td>\n",
       "      <td>Harvey Keitel</td>\n",
       "      <td>Matthew 'Sport' Higgins</td>\n",
       "      <td>ACTOR</td>\n",
       "    </tr>\n",
       "    <tr>\n",
       "      <th>4</th>\n",
       "      <td>48933</td>\n",
       "      <td>tm84618</td>\n",
       "      <td>Cybill Shepherd</td>\n",
       "      <td>Betsy</td>\n",
       "      <td>ACTOR</td>\n",
       "    </tr>\n",
       "  </tbody>\n",
       "</table>\n",
       "</div>"
      ],
      "text/plain": [
       "   person_id       id             name                character   role\n",
       "0       3748  tm84618   Robert De Niro            Travis Bickle  ACTOR\n",
       "1      14658  tm84618     Jodie Foster            Iris Steensma  ACTOR\n",
       "2       7064  tm84618    Albert Brooks                      Tom  ACTOR\n",
       "3       3739  tm84618    Harvey Keitel  Matthew 'Sport' Higgins  ACTOR\n",
       "4      48933  tm84618  Cybill Shepherd                    Betsy  ACTOR"
      ]
     },
     "execution_count": 5,
     "metadata": {},
     "output_type": "execute_result"
    }
   ],
   "source": [
    "credits_data = pd.read_csv(credits_file_path)\n",
    "credits_data.head()"
   ]
  },
  {
   "cell_type": "markdown",
   "id": "9d6723aa",
   "metadata": {
    "papermill": {
     "duration": 0.009263,
     "end_time": "2024-07-19T18:48:41.217840",
     "exception": false,
     "start_time": "2024-07-19T18:48:41.208577",
     "status": "completed"
    },
    "tags": []
   },
   "source": [
    "**Feature engineering**\n"
   ]
  },
  {
   "cell_type": "markdown",
   "id": "68b2c2fb",
   "metadata": {
    "papermill": {
     "duration": 0.008617,
     "end_time": "2024-07-19T18:48:41.236188",
     "exception": false,
     "start_time": "2024-07-19T18:48:41.227571",
     "status": "completed"
    },
    "tags": []
   },
   "source": [
    "**Extracting relevant features from titles_data**"
   ]
  },
  {
   "cell_type": "code",
   "execution_count": 6,
   "id": "874eedfa",
   "metadata": {
    "execution": {
     "iopub.execute_input": "2024-07-19T18:48:41.257696Z",
     "iopub.status.busy": "2024-07-19T18:48:41.256624Z",
     "iopub.status.idle": "2024-07-19T18:48:41.274341Z",
     "shell.execute_reply": "2024-07-19T18:48:41.273127Z"
    },
    "papermill": {
     "duration": 0.032733,
     "end_time": "2024-07-19T18:48:41.277156",
     "exception": false,
     "start_time": "2024-07-19T18:48:41.244423",
     "status": "completed"
    },
    "tags": []
   },
   "outputs": [],
   "source": [
    "titles_data['description_length'] = titles_data['description'].str.len() "
   ]
  },
  {
   "cell_type": "markdown",
   "id": "fb3d47ee",
   "metadata": {
    "papermill": {
     "duration": 0.006847,
     "end_time": "2024-07-19T18:48:41.291264",
     "exception": false,
     "start_time": "2024-07-19T18:48:41.284417",
     "status": "completed"
    },
    "tags": []
   },
   "source": [
    "**Feature engineering on credits_data**"
   ]
  },
  {
   "cell_type": "markdown",
   "id": "c99fac89",
   "metadata": {
    "papermill": {
     "duration": 0.007195,
     "end_time": "2024-07-19T18:48:41.305728",
     "exception": false,
     "start_time": "2024-07-19T18:48:41.298533",
     "status": "completed"
    },
    "tags": []
   },
   "source": [
    "**Counting the number of characters in the 'character' column**"
   ]
  },
  {
   "cell_type": "code",
   "execution_count": 7,
   "id": "d7b47f2a",
   "metadata": {
    "execution": {
     "iopub.execute_input": "2024-07-19T18:48:41.321965Z",
     "iopub.status.busy": "2024-07-19T18:48:41.321413Z",
     "iopub.status.idle": "2024-07-19T18:48:41.389897Z",
     "shell.execute_reply": "2024-07-19T18:48:41.388687Z"
    },
    "papermill": {
     "duration": 0.080365,
     "end_time": "2024-07-19T18:48:41.393184",
     "exception": false,
     "start_time": "2024-07-19T18:48:41.312819",
     "status": "completed"
    },
    "tags": []
   },
   "outputs": [],
   "source": [
    "credits_data['character_length'] = credits_data['character'].str.len()"
   ]
  },
  {
   "cell_type": "markdown",
   "id": "7d688839",
   "metadata": {
    "papermill": {
     "duration": 0.008174,
     "end_time": "2024-07-19T18:48:41.411301",
     "exception": false,
     "start_time": "2024-07-19T18:48:41.403127",
     "status": "completed"
    },
    "tags": []
   },
   "source": [
    "**Merge datasets on a common column (if needed)**"
   ]
  },
  {
   "cell_type": "code",
   "execution_count": 8,
   "id": "99034234",
   "metadata": {
    "execution": {
     "iopub.execute_input": "2024-07-19T18:48:41.429761Z",
     "iopub.status.busy": "2024-07-19T18:48:41.429227Z",
     "iopub.status.idle": "2024-07-19T18:48:41.525215Z",
     "shell.execute_reply": "2024-07-19T18:48:41.524065Z"
    },
    "papermill": {
     "duration": 0.107184,
     "end_time": "2024-07-19T18:48:41.527801",
     "exception": false,
     "start_time": "2024-07-19T18:48:41.420617",
     "status": "completed"
    },
    "tags": []
   },
   "outputs": [],
   "source": [
    "merged_data = pd.merge(titles_data, credits_data, on='id', how='inner')"
   ]
  },
  {
   "cell_type": "markdown",
   "id": "1dcbdf9d",
   "metadata": {
    "papermill": {
     "duration": 0.00662,
     "end_time": "2024-07-19T18:48:41.542534",
     "exception": false,
     "start_time": "2024-07-19T18:48:41.535914",
     "status": "completed"
    },
    "tags": []
   },
   "source": [
    "**Data cleaning and preprocessing**"
   ]
  },
  {
   "cell_type": "markdown",
   "id": "9192334f",
   "metadata": {
    "papermill": {
     "duration": 0.006813,
     "end_time": "2024-07-19T18:48:41.556231",
     "exception": false,
     "start_time": "2024-07-19T18:48:41.549418",
     "status": "completed"
    },
    "tags": []
   },
   "source": [
    "**Handle missing values**"
   ]
  },
  {
   "cell_type": "code",
   "execution_count": 9,
   "id": "d7c5e10b",
   "metadata": {
    "execution": {
     "iopub.execute_input": "2024-07-19T18:48:41.571884Z",
     "iopub.status.busy": "2024-07-19T18:48:41.571451Z",
     "iopub.status.idle": "2024-07-19T18:48:41.684773Z",
     "shell.execute_reply": "2024-07-19T18:48:41.683480Z"
    },
    "papermill": {
     "duration": 0.124968,
     "end_time": "2024-07-19T18:48:41.688098",
     "exception": false,
     "start_time": "2024-07-19T18:48:41.563130",
     "status": "completed"
    },
    "tags": []
   },
   "outputs": [],
   "source": [
    "merged_data.dropna(inplace=True)"
   ]
  }
 ],
 "metadata": {
  "kaggle": {
   "accelerator": "none",
   "dataSources": [
    {
     "datasetId": 2178661,
     "sourceId": 3989707,
     "sourceType": "datasetVersion"
    }
   ],
   "dockerImageVersionId": 30732,
   "isGpuEnabled": false,
   "isInternetEnabled": false,
   "language": "python",
   "sourceType": "notebook"
  },
  "kernelspec": {
   "display_name": "Python 3",
   "language": "python",
   "name": "python3"
  },
  "language_info": {
   "codemirror_mode": {
    "name": "ipython",
    "version": 3
   },
   "file_extension": ".py",
   "mimetype": "text/x-python",
   "name": "python",
   "nbconvert_exporter": "python",
   "pygments_lexer": "ipython3",
   "version": "3.10.13"
  },
  "papermill": {
   "default_parameters": {},
   "duration": 7.782781,
   "end_time": "2024-07-19T18:48:42.317969",
   "environment_variables": {},
   "exception": null,
   "input_path": "__notebook__.ipynb",
   "output_path": "__notebook__.ipynb",
   "parameters": {},
   "start_time": "2024-07-19T18:48:34.535188",
   "version": "2.5.0"
  }
 },
 "nbformat": 4,
 "nbformat_minor": 5
}
