{
 "cells": [
  {
   "cell_type": "code",
   "execution_count": 1,
   "id": "a1a7e96f",
   "metadata": {
    "_cell_guid": "b1076dfc-b9ad-4769-8c92-a6c4dae69d19",
    "_uuid": "8f2839f25d086af736a60e9eeb907d3b93b6e0e5",
    "execution": {
     "iopub.execute_input": "2024-07-19T14:19:28.298140Z",
     "iopub.status.busy": "2024-07-19T14:19:28.297780Z",
     "iopub.status.idle": "2024-07-19T14:19:29.084850Z",
     "shell.execute_reply": "2024-07-19T14:19:29.083333Z"
    },
    "papermill": {
     "duration": 0.794095,
     "end_time": "2024-07-19T14:19:29.087180",
     "exception": false,
     "start_time": "2024-07-19T14:19:28.293085",
     "status": "completed"
    },
    "tags": []
   },
   "outputs": [
    {
     "name": "stdout",
     "output_type": "stream",
     "text": [
      "/kaggle/input/netflix-tv-shows-and-movies/credits.csv\n",
      "/kaggle/input/netflix-tv-shows-and-movies/titles.csv\n"
     ]
    }
   ],
   "source": [
    "# This Python 3 environment comes with many helpful analytics libraries installed\n",
    "# It is defined by the kaggle/python Docker image: https://github.com/kaggle/docker-python\n",
    "# For example, here's several helpful packages to load\n",
    "\n",
    "import numpy as np # linear algebra\n",
    "import pandas as pd # data processing, CSV file I/O (e.g. pd.read_csv)\n",
    "\n",
    "# Input data files are available in the read-only \"../input/\" directory\n",
    "# For example, running this (by clicking run or pressing Shift+Enter) will list all files under the input directory\n",
    "\n",
    "import os\n",
    "for dirname, _, filenames in os.walk('/kaggle/input'):\n",
    "    for filename in filenames:\n",
    "        print(os.path.join(dirname, filename))\n",
    "\n",
    "# You can write up to 20GB to the current directory (/kaggle/working/) that gets preserved as output when you create a version using \"Save & Run All\" \n",
    "# You can also write temporary files to /kaggle/temp/, but they won't be saved outside of the current session"
   ]
  },
  {
   "cell_type": "markdown",
   "id": "51017862",
   "metadata": {
    "papermill": {
     "duration": 0.002525,
     "end_time": "2024-07-19T14:19:29.092933",
     "exception": false,
     "start_time": "2024-07-19T14:19:29.090408",
     "status": "completed"
    },
    "tags": []
   },
   "source": [
    "Input libraries"
   ]
  },
  {
   "cell_type": "code",
   "execution_count": 2,
   "id": "4da18bc8",
   "metadata": {
    "execution": {
     "iopub.execute_input": "2024-07-19T14:19:29.100178Z",
     "iopub.status.busy": "2024-07-19T14:19:29.099238Z",
     "iopub.status.idle": "2024-07-19T14:19:30.627915Z",
     "shell.execute_reply": "2024-07-19T14:19:30.626856Z"
    },
    "papermill": {
     "duration": 1.535009,
     "end_time": "2024-07-19T14:19:30.630587",
     "exception": false,
     "start_time": "2024-07-19T14:19:29.095578",
     "status": "completed"
    },
    "tags": []
   },
   "outputs": [],
   "source": [
    "import pandas as pd\n",
    "from sklearn.model_selection import train_test_split, cross_val_score, GridSearchCV\n",
    "from sklearn.ensemble import RandomForestRegressor\n",
    "from sklearn.linear_model import LinearRegression\n",
    "from sklearn.metrics import mean_squared_error, mean_absolute_error\n",
    "from sklearn.preprocessing import StandardScaler, OneHotEncoder\n",
    "from sklearn.compose import ColumnTransformer\n",
    "from sklearn.pipeline import Pipeline\n",
    "import numpy as np"
   ]
  },
  {
   "cell_type": "markdown",
   "id": "0808c3ae",
   "metadata": {
    "papermill": {
     "duration": 0.002487,
     "end_time": "2024-07-19T14:19:30.636057",
     "exception": false,
     "start_time": "2024-07-19T14:19:30.633570",
     "status": "completed"
    },
    "tags": []
   },
   "source": [
    "Specify the file paths for both database files"
   ]
  },
  {
   "cell_type": "code",
   "execution_count": 3,
   "id": "5e7fdac3",
   "metadata": {
    "execution": {
     "iopub.execute_input": "2024-07-19T14:19:30.643513Z",
     "iopub.status.busy": "2024-07-19T14:19:30.642714Z",
     "iopub.status.idle": "2024-07-19T14:19:30.647826Z",
     "shell.execute_reply": "2024-07-19T14:19:30.646795Z"
    },
    "papermill": {
     "duration": 0.011219,
     "end_time": "2024-07-19T14:19:30.649913",
     "exception": false,
     "start_time": "2024-07-19T14:19:30.638694",
     "status": "completed"
    },
    "tags": []
   },
   "outputs": [],
   "source": [
    "titles_file_path = \"/kaggle/input/netflix-tv-shows-and-movies/titles.csv\"\n",
    "credits_file_path = \"/kaggle/input/netflix-tv-shows-and-movies/credits.csv\""
   ]
  },
  {
   "cell_type": "markdown",
   "id": "e52c0636",
   "metadata": {
    "papermill": {
     "duration": 0.002456,
     "end_time": "2024-07-19T14:19:30.655069",
     "exception": false,
     "start_time": "2024-07-19T14:19:30.652613",
     "status": "completed"
    },
    "tags": []
   },
   "source": [
    "Load the titles dataset "
   ]
  },
  {
   "cell_type": "code",
   "execution_count": 4,
   "id": "d5231b16",
   "metadata": {
    "execution": {
     "iopub.execute_input": "2024-07-19T14:19:30.662063Z",
     "iopub.status.busy": "2024-07-19T14:19:30.661635Z",
     "iopub.status.idle": "2024-07-19T14:19:30.761278Z",
     "shell.execute_reply": "2024-07-19T14:19:30.760171Z"
    },
    "papermill": {
     "duration": 0.106142,
     "end_time": "2024-07-19T14:19:30.763886",
     "exception": false,
     "start_time": "2024-07-19T14:19:30.657744",
     "status": "completed"
    },
    "tags": []
   },
   "outputs": [],
   "source": [
    "titles_data = pd.read_csv(titles_file_path)"
   ]
  },
  {
   "cell_type": "markdown",
   "id": "326423a8",
   "metadata": {
    "papermill": {
     "duration": 0.002582,
     "end_time": "2024-07-19T14:19:30.769500",
     "exception": false,
     "start_time": "2024-07-19T14:19:30.766918",
     "status": "completed"
    },
    "tags": []
   },
   "source": [
    "Load the credits dataset "
   ]
  },
  {
   "cell_type": "code",
   "execution_count": 5,
   "id": "884c60b6",
   "metadata": {
    "execution": {
     "iopub.execute_input": "2024-07-19T14:19:30.776803Z",
     "iopub.status.busy": "2024-07-19T14:19:30.776009Z",
     "iopub.status.idle": "2024-07-19T14:19:30.963067Z",
     "shell.execute_reply": "2024-07-19T14:19:30.961959Z"
    },
    "papermill": {
     "duration": 0.193862,
     "end_time": "2024-07-19T14:19:30.966070",
     "exception": false,
     "start_time": "2024-07-19T14:19:30.772208",
     "status": "completed"
    },
    "tags": []
   },
   "outputs": [],
   "source": [
    "credits_data = pd.read_csv(credits_file_path)"
   ]
  }
 ],
 "metadata": {
  "kaggle": {
   "accelerator": "none",
   "dataSources": [
    {
     "datasetId": 2178661,
     "sourceId": 3989707,
     "sourceType": "datasetVersion"
    }
   ],
   "dockerImageVersionId": 30732,
   "isGpuEnabled": false,
   "isInternetEnabled": false,
   "language": "python",
   "sourceType": "notebook"
  },
  "kernelspec": {
   "display_name": "Python 3",
   "language": "python",
   "name": "python3"
  },
  "language_info": {
   "codemirror_mode": {
    "name": "ipython",
    "version": 3
   },
   "file_extension": ".py",
   "mimetype": "text/x-python",
   "name": "python",
   "nbconvert_exporter": "python",
   "pygments_lexer": "ipython3",
   "version": "3.10.13"
  },
  "papermill": {
   "default_parameters": {},
   "duration": 5.816009,
   "end_time": "2024-07-19T14:19:31.490489",
   "environment_variables": {},
   "exception": null,
   "input_path": "__notebook__.ipynb",
   "output_path": "__notebook__.ipynb",
   "parameters": {},
   "start_time": "2024-07-19T14:19:25.674480",
   "version": "2.5.0"
  }
 },
 "nbformat": 4,
 "nbformat_minor": 5
}
